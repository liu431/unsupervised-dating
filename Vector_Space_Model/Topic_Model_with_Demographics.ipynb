{
 "cells": [
  {
   "cell_type": "markdown",
   "metadata": {},
   "source": [
    "## Topic Modeling and Visualization"
   ]
  },
  {
   "cell_type": "code",
   "execution_count": 1,
   "metadata": {},
   "outputs": [],
   "source": [
    "#General Imports\n",
    "import numpy as np\n",
    "import pandas as pd\n",
    "import matplotlib as mpl\n",
    "import matplotlib.pyplot as plt\n",
    "import seaborn as sns\n",
    "%matplotlib inline"
   ]
  },
  {
   "cell_type": "code",
   "execution_count": 2,
   "metadata": {},
   "outputs": [
    {
     "ename": "ModuleNotFoundError",
     "evalue": "No module named 'utils.spacy_tokenizer'",
     "output_type": "error",
     "traceback": [
      "\u001b[1;31m---------------------------------------------------------------------------\u001b[0m",
      "\u001b[1;31mModuleNotFoundError\u001b[0m                       Traceback (most recent call last)",
      "\u001b[1;32m<ipython-input-2-c6f5392dd25f>\u001b[0m in \u001b[0;36m<module>\u001b[1;34m()\u001b[0m\n\u001b[0;32m      3\u001b[0m \u001b[1;32mfrom\u001b[0m \u001b[0mutils\u001b[0m\u001b[1;33m.\u001b[0m\u001b[0mnonnegative_matrix_factorization\u001b[0m \u001b[1;32mimport\u001b[0m \u001b[0mnmf_labels\u001b[0m\u001b[1;33m,\u001b[0m \u001b[0mnmf_inspect\u001b[0m\u001b[1;33m\u001b[0m\u001b[0m\n\u001b[0;32m      4\u001b[0m \u001b[1;32mfrom\u001b[0m \u001b[0mutils\u001b[0m\u001b[1;33m.\u001b[0m\u001b[0msplits\u001b[0m \u001b[1;32mimport\u001b[0m \u001b[0msubset_df\u001b[0m\u001b[1;33m,\u001b[0m \u001b[0mgroup_pct\u001b[0m\u001b[1;33m\u001b[0m\u001b[0m\n\u001b[1;32m----> 5\u001b[1;33m \u001b[1;32mfrom\u001b[0m \u001b[0mutils\u001b[0m\u001b[1;33m.\u001b[0m\u001b[0mtext_representation\u001b[0m \u001b[1;32mimport\u001b[0m \u001b[0mfeature_vectors\u001b[0m\u001b[1;33m\u001b[0m\u001b[0m\n\u001b[0m\u001b[0;32m      6\u001b[0m \u001b[1;32mfrom\u001b[0m \u001b[0mutils\u001b[0m\u001b[1;33m.\u001b[0m\u001b[0mlexical_features\u001b[0m \u001b[1;32mimport\u001b[0m \u001b[1;33m*\u001b[0m\u001b[1;33m\u001b[0m\u001b[0m\n",
      "\u001b[1;32mD:\\Dropbox\\Repositories\\persp-research_S19\\fp-policyglot\\data\\utils\\text_representation.py\u001b[0m in \u001b[0;36m<module>\u001b[1;34m()\u001b[0m\n\u001b[0;32m      4\u001b[0m \u001b[1;32mfrom\u001b[0m \u001b[0msklearn\u001b[0m\u001b[1;33m.\u001b[0m\u001b[0mfeature_extraction\u001b[0m\u001b[1;33m.\u001b[0m\u001b[0mtext\u001b[0m \u001b[1;32mimport\u001b[0m \u001b[0mTfidfTransformer\u001b[0m\u001b[1;33m\u001b[0m\u001b[0m\n\u001b[0;32m      5\u001b[0m \u001b[1;33m\u001b[0m\u001b[0m\n\u001b[1;32m----> 6\u001b[1;33m \u001b[1;32mfrom\u001b[0m \u001b[0mutils\u001b[0m\u001b[1;33m.\u001b[0m\u001b[0mspacy_tokenizer\u001b[0m \u001b[1;32mimport\u001b[0m \u001b[0mspacy_tokenize\u001b[0m\u001b[1;33m\u001b[0m\u001b[0m\n\u001b[0m\u001b[0;32m      7\u001b[0m \u001b[1;33m\u001b[0m\u001b[0m\n\u001b[0;32m      8\u001b[0m \u001b[1;33m\u001b[0m\u001b[0m\n",
      "\u001b[1;31mModuleNotFoundError\u001b[0m: No module named 'utils.spacy_tokenizer'"
     ]
    }
   ],
   "source": [
    "#These functions and part of the final visualization functions are based on the following repo: \n",
    "#https://github.com/juanshishido/okcupid\n",
    "from utils.nonnegative_matrix_factorization import nmf_labels, nmf_inspect\n",
    "from utils.splits import subset_df, group_pct\n",
    "from utils.text_representation import feature_vectors\n",
    "from utils.lexical_features import *"
   ]
  },
  {
   "cell_type": "markdown",
   "metadata": {},
   "source": [
    "#### First, we generate the topics and assign some meaning to them"
   ]
  },
  {
   "cell_type": "code",
   "execution_count": null,
   "metadata": {},
   "outputs": [],
   "source": [
    "df = pd.read_csv('compressed_okcupid.csv')"
   ]
  },
  {
   "cell_type": "code",
   "execution_count": null,
   "metadata": {},
   "outputs": [],
   "source": [
    "#The major part of the algorithm- can take some time\n",
    "specs = {'stop_words' : 'english', 'ngram_range' : (1, 3), 'min_df' : 0.005}\n",
    "counts, tfidf, vocab = feature_vectors(df.essay0, specs)"
   ]
  },
  {
   "cell_type": "code",
   "execution_count": null,
   "metadata": {},
   "outputs": [],
   "source": [
    "K = 25\n",
    "nmf_inspect(tfidf, vocab, k_vals=[K], n_words=50)"
   ]
  },
  {
   "cell_type": "code",
   "execution_count": null,
   "metadata": {},
   "outputs": [],
   "source": [
    "#These labels are based on the categories as assessed by Juan Shishido, then modified by me\n",
    "labels=['Reach Out!','Relocated', 'About Me', 'Hesitation', 'Casual', 'The City',\n",
    "       'Novelty', 'Cool', 'Likes', 'Passions', 'Easy Going', 'Region', 'Seeking', 'Thoughts', 'Fun', 'New Here',\n",
    "        'Travel','Self-summary', 'Nots', 'Growing Up','Carpe Diem', 'Good Company','Hobbies',\n",
    "        'Cultural Interests', 'Ambitious']\n",
    "\n",
    "label_dict = {}\n",
    "for c, value in enumerate(labels):\n",
    "    label_dict[c] = value\n",
    "print(label_dict)"
   ]
  },
  {
   "cell_type": "markdown",
   "metadata": {},
   "source": [
    "#### Next, we find a way of calculating and visualizing these topic distributions across our 4 chosen demographic variables"
   ]
  },
  {
   "cell_type": "code",
   "execution_count": null,
   "metadata": {},
   "outputs": [],
   "source": [
    "def split_by_demog(model, feature_names, n_top_words):\n",
    "    \"\"\"For printing the `n_top_words` for each grouping\n",
    "\n",
    "    Parameters\n",
    "    ----------\n",
    "    model : sklearn.decomposition.nmf.NMF\n",
    "        The NMF object\n",
    "\n",
    "    feature_names : list\n",
    "        The output from calling `TfidfVectorizer` on the users/features data\n",
    "\n",
    "    n_top_words : int\n",
    "        The top n words to print for a particular grouping\n",
    "\n",
    "    Returns\n",
    "    -------\n",
    "    None\n",
    "    \"\"\"\n",
    "    for topic_idx, topic in enumerate(model.components_):\n",
    "        print(\"Group %d:\" % topic_idx)\n",
    "        print(\" | \".join([feature_names[i]\n",
    "            for i in topic.argsort()[ : -n_top_words-1 : -1]]))\n",
    "        print()\n",
    "    print()"
   ]
  },
  {
   "cell_type": "code",
   "execution_count": null,
   "metadata": {},
   "outputs": [],
   "source": [
    "def get_label(group_num):\n",
    "    return label_dict[group_num]\n",
    "\n",
    "def format_df(df, demog, tfidf): \n",
    "    df['group'] = nmf_labels(tfidf, k=K)\n",
    "    subset = subset_df(df, demog, df[demog].unique())\n",
    "    grouped = group_pct(subset, demog)\n",
    "    percent_only = grouped.drop(['count_x', 'count_y'], axis=1)\n",
    "    #percent_only\n",
    "    pivoted = percent_only.pivot(index='group', columns=demog)\n",
    "    pivoted['max_value'] = pivoted.max(axis=1)\n",
    "    ordered_df = pivoted.sort_values(by='max_value', ascending=True)\n",
    "    #Getting rid of the multi-line index\n",
    "    ordered_df.columns = ordered_df.columns.droplevel(0)\n",
    "    ordered_df = ordered_df.reset_index().rename_axis(None, axis=1)\n",
    "    #Renaming the max\n",
    "    ordered_df = ordered_df.rename(columns={'':'max'})\n",
    "    #Linking to label\n",
    "    ordered_df['label'] = ordered_df['group'].apply(get_label)\n",
    "    return ordered_df"
   ]
  },
  {
   "cell_type": "code",
   "execution_count": null,
   "metadata": {},
   "outputs": [],
   "source": [
    "height_df, race_df, edu_df, fit_df= format_df(df, 'height_group', tfidf), \n",
    "                                    format_df(df, 'race_ethnicity', tfidf), \n",
    "                                    format_df(df, 'edu', tfidf), \n",
    "                                    format_df(df, 'fit', tfidf)"
   ]
  },
  {
   "cell_type": "code",
   "execution_count": null,
   "metadata": {},
   "outputs": [],
   "source": [
    "#Plot for Education Levels\n",
    "ordered_df = edu_df\n",
    "import matplotlib.patches as mpatches\n",
    "\n",
    "my_range=range(1,len(ordered_df.index)+1)\n",
    "fig, ax = plt.subplots(figsize=(18, 15))\n",
    "ttl = ax.title\n",
    "ttl.set_position([.5, 1.05])\n",
    "\n",
    "# The vertival plot is made using the hline function\n",
    "# I load the seaborn library only to benefit the nice looking feature\n",
    "import seaborn as sns\n",
    "plt.hlines(y=my_range, xmin=0, xmax=ordered_df['max'], color='Gray')\n",
    "plt.plot(ordered_df['High School or less'], my_range, \"o\", markersize=20, color='blue')\n",
    "plt.plot(ordered_df['More than High School'], my_range, \"o\", markersize=20, color='red')\n",
    "plt.rc('ytick',labelsize=28)\n",
    "plt.rc('xtick',labelsize=28)\n",
    "# Add titles and axis names\n",
    "plt.yticks(my_range, ordered_df['label'])\n",
    "plt.title(\"Topics in OkCupid Male Self-Introductions Across Education Levels\", loc='center', fontsize=40)\n",
    "plt.xlabel('Proportion of Users Using This Topic Most', fontsize=32)\n",
    "plt.ylabel('Topics Inferred from Essay',fontsize=32)\n",
    "maroon_patch = mpatches.Patch(color='red', label='More than High School')\n",
    "blue_patch = mpatches.Patch(color='blue', label='Less than High School')\n",
    "plt.legend(handles=[maroon_patch, blue_patch], loc='center right', fontsize='xx-large', borderpad=2)\n",
    "plt.savefig('opinions.png', bbox_inches='tight')\n"
   ]
  },
  {
   "cell_type": "code",
   "execution_count": null,
   "metadata": {},
   "outputs": [],
   "source": [
    "#Plot for Fitness Levels\n",
    "ordered_df = fit_df\n",
    "import matplotlib.patches as mpatches\n",
    "\n",
    "my_range=range(1,len(fit_df.index)+1)\n",
    "fig, ax = plt.subplots(figsize=(18, 15))\n",
    "ttl = ax.title\n",
    "ttl.set_position([.5, 1.05])\n",
    "\n",
    "# The vertival plot is made using the hline function\n",
    "# I load the seaborn library only to benefit the nice looking feature\n",
    "import seaborn as sns\n",
    "plt.hlines(y=my_range, xmin=0, xmax=ordered_df['max'], color='Gray')\n",
    "plt.plot(ordered_df['fit'], my_range, \"o\", markersize=20, color='blue')\n",
    "plt.plot(ordered_df['not_fit'], my_range, \"o\", markersize=20, color='red')\n",
    "plt.rc('ytick',labelsize=28)\n",
    "plt.rc('xtick',labelsize=28)\n",
    "# Add titles and axis names\n",
    "plt.yticks(my_range, ordered_df['label'])\n",
    "plt.title(\"Topics in OkCupid Male Self-Introductions Across Fitness Levels\", loc='center', fontsize=40)\n",
    "plt.xlabel('Proportion of Users Using This Topic Most', fontsize=32)\n",
    "plt.ylabel('Topics Inferred from Essay',fontsize=32)\n",
    "maroon_patch = mpatches.Patch(color='red', label='Fit')\n",
    "blue_patch = mpatches.Patch(color='blue', label='Not Fit')\n",
    "plt.legend(handles=[maroon_patch, blue_patch], loc='center right', fontsize='xx-large', borderpad=2)\n",
    "plt.savefig('fit.png', bbox_inches='tight')"
   ]
  },
  {
   "cell_type": "code",
   "execution_count": null,
   "metadata": {},
   "outputs": [],
   "source": [
    "#The Plot for Height\n",
    "ordered_df = height_df\n",
    "import matplotlib.patches as mpatches\n",
    "\n",
    "my_range=range(1,len(ordered_df.index)+1)\n",
    "fig, ax = plt.subplots(figsize=(18, 15))\n",
    "ttl = ax.title\n",
    "ttl.set_position([.5, 1.05])\n",
    "\n",
    "# The vertival plot is made using the hline function\n",
    "# I load the seaborn library only to benefit the nice looking feature\n",
    "import seaborn as sns\n",
    "plt.hlines(y=my_range, xmin=0, xmax=ordered_df['max'], color='Gray')\n",
    "plt.plot(ordered_df['short'], my_range, \"o\", markersize=20, color='blue')\n",
    "plt.plot(ordered_df['not_short'], my_range, \"o\", markersize=20, color='red')\n",
    "plt.rc('ytick',labelsize=28)\n",
    "plt.rc('xtick',labelsize=28)\n",
    "# Add titles and axis names\n",
    "plt.yticks(my_range, ordered_df['label'])\n",
    "plt.title(\"Topics in OkCupid Male Self-Introductions Across Height Groups\", loc='center', fontsize=40)\n",
    "plt.xlabel('Proportion of Users Using This Topic Most', fontsize=32)\n",
    "plt.ylabel('Topics Inferred from Essay',fontsize=32)\n",
    "maroon_patch = mpatches.Patch(color='red', label='Short')\n",
    "blue_patch = mpatches.Patch(color='blue', label='Not Short')\n",
    "plt.legend(handles=[maroon_patch, blue_patch], loc='center right', fontsize='xx-large', borderpad=2)\n",
    "plt.savefig('height.png', bbox_inches='tight')"
   ]
  },
  {
   "cell_type": "code",
   "execution_count": null,
   "metadata": {},
   "outputs": [],
   "source": [
    "# The Plot for Races\n",
    "ordered_df = race_df\n",
    "my_range=range(1,len(ordered_df.index)+1)\n",
    "fig, ax = plt.subplots(figsize=(18, 15))\n",
    "ttl = ax.title\n",
    "ttl.set_position([.5, 1.05])\n",
    "\n",
    "# The vertival plot is made using the hline function\n",
    "# I load the seaborn library only to benefit the nice looking feature\n",
    "import seaborn as sns\n",
    "plt.hlines(y=my_range, xmin=0, xmax=ordered_df['max'], color='Gray')\n",
    "plt.plot(ordered_df['White'], my_range, \"o\", markersize=20, color='blue')\n",
    "plt.plot(ordered_df['Black'], my_range, \"o\", markersize=20, color='red')\n",
    "plt.plot(ordered_df['Asian'], my_range, \"o\", markersize=20, color='green')\n",
    "plt.plot(ordered_df['Latinx'], my_range, \"o\", markersize=20, color='cyan')\n",
    "plt.plot(ordered_df['multiple'], my_range, \"o\", markersize=20, color='magenta')\n",
    "plt.rc('ytick',labelsize=28)\n",
    "plt.rc('xtick',labelsize=28)\n",
    "# Add titles and axis names\n",
    "plt.yticks(my_range, ordered_df['label'])\n",
    "plt.title(\"Topics in OkCupid Male Self-Introductions Across Racial Groups\", loc='center', fontsize=40)\n",
    "plt.xlabel('Proportion of Users Using This Topic Most', fontsize=32)\n",
    "plt.ylabel('Topics Inferred from Essay',fontsize=32)\n",
    "blue_patch = mpatches.Patch(color='blue', label='White')\n",
    "maroon_patch = mpatches.Patch(color='red', label='Black')\n",
    "green_patch = mpatches.Patch(color='green', label='Asian')\n",
    "cyan_patch = mpatches.Patch(color='cyan', label='Latinx')\n",
    "magenta_patch = mpatches.Patch(color='magenta', label='multiple')\n",
    "plt.legend(handles=[maroon_patch, blue_patch, green_patch, cyan_patch, magenta_patch], loc='center right', fontsize='xx-large', borderpad=2)\n",
    "plt.savefig('race.png', bbox_inches='tight')"
   ]
  }
 ],
 "metadata": {
  "kernelspec": {
   "display_name": "Python 3",
   "language": "python",
   "name": "python3"
  },
  "language_info": {
   "codemirror_mode": {
    "name": "ipython",
    "version": 3
   },
   "file_extension": ".py",
   "mimetype": "text/x-python",
   "name": "python",
   "nbconvert_exporter": "python",
   "pygments_lexer": "ipython3",
   "version": "3.6.5"
  }
 },
 "nbformat": 4,
 "nbformat_minor": 2
}
